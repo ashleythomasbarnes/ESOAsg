{
 "cells": [
  {
   "cell_type": "markdown",
   "metadata": {},
   "source": [
    "<img align='left' alt='ESO Logo' src='http://archive.eso.org/i/esologo.png'>  \n",
    "\n",
    "# &nbsp; ESO Science Archive Programmatic: HOWTOs"
   ]
  },
  {
   "cell_type": "markdown",
   "metadata": {},
   "source": [
    "##  HOW TO obtain archival ESO data given RA and Dec and investigate using Aladin\n",
    "\n",
    "This script follows the inital ``HOW TO obtain archival ESO data given RA and Dec`` script. \n",
    "\n",
    "However, with this example, we show how to obtain some images towards the Galacitc Centre from the [GALACTICNUCLEUS](https://www.aanda.org/articles/aa/full_html/2019/11/aa36263-19/aa36263-19.html) project (HAWKI) and veiw these in [Aladin Sky Atlas](https://aladin.cds.unistra.fr/). \n",
    "\n",
    "In case you use data from the ESO Archive for your research, please consider the [ESO acknowledgement policies](http://archive.eso.org/cms/eso-data-access-policy.html#acknowledgement).\n",
    "\n",
    "**Usage**: You can access this file as an interactive jupyter notebook, which you can download and run on your machine [(instructions)](https://jupyter.org/install). To interact with the jupyter notebook (if you have download it): move up and down the various cells using the arrow keys, execute the code by pressing CTRL+ENTER; you can also modify the code and execute it at will.\n",
    "\n",
    "**Version**: Please note that this notebook uses Python version 3.10.15 and Jupyter Notebook version 6.4.10. Compatibility with other versions cannot be guaranteed.\n",
    "\n",
    "**Authors**: Ashley Thomas Barnes"
   ]
  },
  {
   "cell_type": "markdown",
   "metadata": {},
   "source": [
    "---\n",
    "## <a id='imports'>0. Imports - inc. ESOAsg package</a>"
   ]
  },
  {
   "cell_type": "code",
   "execution_count": 1,
   "metadata": {},
   "outputs": [
    {
     "name": "stdout",
     "output_type": "stream",
     "text": [
      "Intel MKL WARNING: Support of Intel(R) Streaming SIMD Extensions 4.2 (Intel(R) SSE4.2) enabled only processors has been deprecated. Intel oneAPI Math Kernel Library 2025.0 will require Intel(R) Advanced Vector Extensions (Intel(R) AVX) instructions.\n",
      "Intel MKL WARNING: Support of Intel(R) Streaming SIMD Extensions 4.2 (Intel(R) SSE4.2) enabled only processors has been deprecated. Intel oneAPI Math Kernel Library 2025.0 will require Intel(R) Advanced Vector Extensions (Intel(R) AVX) instructions.\n"
     ]
    }
   ],
   "source": [
    "from ESOAsg import archive_observations # ESO Archive Observations\n",
    "from ESOAsg import archive_science_portal # ESO Archive Science Portal\n",
    "\n",
    "from astropy.coordinates import SkyCoord # Astropy coordinates\n",
    "from astropy.io import fits # Astropy FITS files\n",
    "import astropy.constants as const # Astropy constants\n",
    "import astropy.units as u # Astropy units\n",
    "import matplotlib.pyplot as plt # Matplotlib\n",
    "import numpy as np # Numpy\n",
    "from PyAstronomy import pyasl # PyAstronomy - used for Baricentric correction if not in header\n",
    "\n",
    "# Set the default font size and weight for plots\n",
    "plt.rcParams['font.weight'] = 'bold'\n",
    "plt.rcParams['axes.labelweight'] = 'bold'\n",
    "plt.rcParams['axes.titleweight'] = 'bold'\n",
    "plt.rcParams['xtick.direction'] = 'in'\n",
    "plt.rcParams['xtick.top'] = True\n",
    "plt.rcParams['xtick.minor.visible'] = True\n",
    "plt.rcParams['ytick.direction'] = 'in'\n",
    "plt.rcParams['ytick.right'] = True\n",
    "plt.rcParams['ytick.minor.visible'] = True\n",
    "plt.rcParams['figure.dpi'] = 200"
   ]
  },
  {
   "cell_type": "markdown",
   "metadata": {},
   "source": [
    "---\n",
    "## <a id='RA/Dec'>1. Get RA and Dec of one target (or more) </a>\n",
    "\n",
    "To begin, you need to choose the targets you would like to explore and get their coordinates. These need to be an [astropy.coordinates](https://docs.astropy.org/en/stable/coordinates/) `SkyCoord` object. A `SkyCoord` object can easily be created by using:\n",
    "```python\n",
    "from astropy import units as u\n",
    "from astropy.coordinates import SkyCoord\n",
    "coordinates = SkyCoord(ra=266.41681662*u.degree, dec=-29.00782497*u.degree, frame='icrs')\n",
    "```\n",
    "For this example, we consider an example for ``Sgr A*`` - the Supermassive blackhole at the centre of the Milky Way."
   ]
  },
  {
   "cell_type": "code",
   "execution_count": 2,
   "metadata": {},
   "outputs": [
    {
     "name": "stdout",
     "output_type": "stream",
     "text": [
      "SgrA*: 17h45m40.0359888s -29d00m28.169892s\n"
     ]
    }
   ],
   "source": [
    "target_name = 'SgrA*' \n",
    "target_position = SkyCoord.from_name(target_name)\n",
    "print('{}: {}'.format(target_name, target_position.to_string('hmsdms')))"
   ]
  },
  {
   "cell_type": "markdown",
   "metadata": {},
   "source": [
    "---\n",
    "## <a id='query'>2. Query the ESO archive and download data </a>\n",
    "\n",
    "The function <code>archive_observations.query_from_radec</code> allows to explore the processed data (also known as ADPs) within a certain radius in arcseconds (e.g., radius=5.) from a given position. \n",
    "\n",
    "It is also possible to limit the search to specific instruments (e.g., ``HAWKI``) or specific data types (e.g., ``image``)."
   ]
  },
  {
   "cell_type": "code",
   "execution_count": 3,
   "metadata": {},
   "outputs": [
    {
     "name": "stderr",
     "output_type": "stream",
     "text": [
      "\u001b[1;30m[WORKING] ::\u001b[0m Running query 1 to the ESO archive (out of 1 total)\n"
     ]
    },
    {
     "ename": "TypeError",
     "evalue": "int() argument must be a string, a bytes-like object or a real number, not 'NoneType'",
     "output_type": "error",
     "traceback": [
      "\u001b[0;31m---------------------------------------------------------------------------\u001b[0m",
      "\u001b[0;31mTypeError\u001b[0m                                 Traceback (most recent call last)",
      "Cell \u001b[0;32mIn[3], line 2\u001b[0m\n\u001b[1;32m      1\u001b[0m \u001b[38;5;66;03m# Query the ESO archive for observations of the stars\u001b[39;00m\n\u001b[0;32m----> 2\u001b[0m result_from_queries \u001b[38;5;241m=\u001b[39m \u001b[43marchive_observations\u001b[49m\u001b[38;5;241;43m.\u001b[39;49m\u001b[43mquery_from_radec\u001b[49m\u001b[43m(\u001b[49m\u001b[43mtarget_position\u001b[49m\u001b[43m,\u001b[49m\u001b[43m \u001b[49m\u001b[38;5;66;43;03m# Target position\u001b[39;49;00m\n\u001b[1;32m      3\u001b[0m \u001b[43m                                                            \u001b[49m\u001b[43mradius\u001b[49m\u001b[38;5;241;43m=\u001b[39;49m\u001b[38;5;241;43m5\u001b[39;49m\u001b[43m,\u001b[49m\u001b[43m \u001b[49m\u001b[38;5;66;43;03m# Radius in arcsec\u001b[39;49;00m\n\u001b[1;32m      4\u001b[0m \u001b[43m                                                            \u001b[49m\u001b[43mdata_types\u001b[49m\u001b[38;5;241;43m=\u001b[39;49m\u001b[38;5;124;43m'\u001b[39;49m\u001b[38;5;124;43mimage\u001b[39;49m\u001b[38;5;124;43m'\u001b[39;49m\u001b[43m,\u001b[49m\u001b[43m \u001b[49m\u001b[38;5;66;43;03m# Data type\u001b[39;49;00m\n\u001b[1;32m      5\u001b[0m \u001b[43m                                                            \u001b[49m\u001b[43minstruments\u001b[49m\u001b[38;5;241;43m=\u001b[39;49m\u001b[43m[\u001b[49m\u001b[38;5;124;43m'\u001b[39;49m\u001b[38;5;124;43mHAWKI\u001b[39;49m\u001b[38;5;124;43m'\u001b[39;49m\u001b[43m]\u001b[49m\u001b[43m \u001b[49m\u001b[38;5;66;43;03m# Instrument\u001b[39;49;00m\n\u001b[1;32m      6\u001b[0m \u001b[43m                                                            \u001b[49m\u001b[43m)\u001b[49m \n",
      "File \u001b[0;32m~/Github/ESOAsg/ESOAsg/archive_observations.py:103\u001b[0m, in \u001b[0;36mquery_from_radec\u001b[0;34m(positions, radius, instruments, data_types, top, columns, verbose, maxrec, em_min, em_max, enclosed, snr, em_res_power, order_by)\u001b[0m\n\u001b[1;32m    100\u001b[0m     query_for_observations\u001b[38;5;241m.\u001b[39mprint_query()\n\u001b[1;32m    102\u001b[0m \u001b[38;5;66;03m# Obtaining query results\u001b[39;00m\n\u001b[0;32m--> 103\u001b[0m \u001b[43mquery_for_observations\u001b[49m\u001b[38;5;241;43m.\u001b[39;49m\u001b[43mrun_query\u001b[49m\u001b[43m(\u001b[49m\u001b[43mto_string\u001b[49m\u001b[38;5;241;43m=\u001b[39;49m\u001b[38;5;28;43;01mTrue\u001b[39;49;00m\u001b[43m)\u001b[49m\n\u001b[1;32m    104\u001b[0m result_from_query \u001b[38;5;241m=\u001b[39m query_for_observations\u001b[38;5;241m.\u001b[39mget_result_from_query()\n\u001b[1;32m    105\u001b[0m \u001b[38;5;28;01mif\u001b[39;00m \u001b[38;5;28mlen\u001b[39m(result_from_query) \u001b[38;5;241m<\u001b[39m \u001b[38;5;241m1\u001b[39m:\n",
      "File \u001b[0;32m~/Github/ESOAsg/ESOAsg/queries/query.py:58\u001b[0m, in \u001b[0;36mQuery.run_query\u001b[0;34m(self, to_string)\u001b[0m\n\u001b[1;32m     51\u001b[0m \u001b[38;5;28;01mdef\u001b[39;00m \u001b[38;5;21mrun_query\u001b[39m(\u001b[38;5;28mself\u001b[39m, to_string\u001b[38;5;241m=\u001b[39m\u001b[38;5;28;01mTrue\u001b[39;00m):\n\u001b[1;32m     52\u001b[0m \u001b[38;5;250m    \u001b[39m\u001b[38;5;124mr\u001b[39m\u001b[38;5;124;03m\"\"\"Run the query and store results in the `result_from_query` attribute\u001b[39;00m\n\u001b[1;32m     53\u001b[0m \n\u001b[1;32m     54\u001b[0m \u001b[38;5;124;03m    Args:\u001b[39;00m\n\u001b[1;32m     55\u001b[0m \u001b[38;5;124;03m        to_string (`bool`, optional): if set to True, if a column is in `bytes` format it transform it to `str`\u001b[39;00m\n\u001b[1;32m     56\u001b[0m \n\u001b[1;32m     57\u001b[0m \u001b[38;5;124;03m    \"\"\"\u001b[39;00m\n\u001b[0;32m---> 58\u001b[0m     \u001b[38;5;28mself\u001b[39m\u001b[38;5;241m.\u001b[39mresult_from_query \u001b[38;5;241m=\u001b[39m \u001b[43mtap_queries\u001b[49m\u001b[38;5;241;43m.\u001b[39;49m\u001b[43mrun_query\u001b[49m\u001b[43m(\u001b[49m\u001b[38;5;28;43mself\u001b[39;49m\u001b[38;5;241;43m.\u001b[39;49m\u001b[43mtap_service\u001b[49m\u001b[43m,\u001b[49m\u001b[43m \u001b[49m\u001b[38;5;28;43mself\u001b[39;49m\u001b[38;5;241;43m.\u001b[39;49m\u001b[43mquery\u001b[49m\u001b[43m,\u001b[49m\u001b[43m \u001b[49m\u001b[38;5;28;43mself\u001b[39;49m\u001b[38;5;241;43m.\u001b[39;49m\u001b[43mtype_of_query\u001b[49m\u001b[43m,\u001b[49m\n\u001b[1;32m     59\u001b[0m \u001b[43m                                                   \u001b[49m\u001b[43mmaxrec\u001b[49m\u001b[38;5;241;43m=\u001b[39;49m\u001b[38;5;28;43mself\u001b[39;49m\u001b[38;5;241;43m.\u001b[39;49m\u001b[43mmaxrec\u001b[49m\u001b[43m)\u001b[49m\n\u001b[1;32m     60\u001b[0m     \u001b[38;5;28;01mif\u001b[39;00m to_string:\n\u001b[1;32m     61\u001b[0m         \u001b[38;5;28;01mfor\u001b[39;00m column_id \u001b[38;5;129;01min\u001b[39;00m \u001b[38;5;28mself\u001b[39m\u001b[38;5;241m.\u001b[39mwhich_columns():\n",
      "File \u001b[0;32m~/Github/ESOAsg/ESOAsg/core/tap_queries.py:120\u001b[0m, in \u001b[0;36mrun_query\u001b[0;34m(tap_service, query, type_of_query, maxrec)\u001b[0m\n\u001b[1;32m    118\u001b[0m \u001b[38;5;28;01mif\u001b[39;00m query \u001b[38;5;129;01mis\u001b[39;00m \u001b[38;5;129;01mnot\u001b[39;00m \u001b[38;5;28;01mNone\u001b[39;00m:\n\u001b[1;32m    119\u001b[0m     \u001b[38;5;28;01mif\u001b[39;00m type_of_query \u001b[38;5;241m==\u001b[39m \u001b[38;5;124m'\u001b[39m\u001b[38;5;124msync\u001b[39m\u001b[38;5;124m'\u001b[39m:\n\u001b[0;32m--> 120\u001b[0m         result_from_query \u001b[38;5;241m=\u001b[39m \u001b[43mrun_query_sync\u001b[49m\u001b[43m(\u001b[49m\u001b[43mtap_service\u001b[49m\u001b[43m,\u001b[49m\u001b[43m \u001b[49m\u001b[43mquery\u001b[49m\u001b[43m,\u001b[49m\u001b[43m \u001b[49m\u001b[43mmaxrec\u001b[49m\u001b[38;5;241;43m=\u001b[39;49m\u001b[43mmaxrec\u001b[49m\u001b[43m)\u001b[49m\n\u001b[1;32m    121\u001b[0m     \u001b[38;5;28;01melse\u001b[39;00m:\n\u001b[1;32m    122\u001b[0m         result_from_query \u001b[38;5;241m=\u001b[39m run_query_async(tap_service, query, maxrec\u001b[38;5;241m=\u001b[39mmaxrec)\n",
      "File \u001b[0;32m~/Github/ESOAsg/ESOAsg/core/tap_queries.py:145\u001b[0m, in \u001b[0;36mrun_query_sync\u001b[0;34m(tap_service, query, maxrec)\u001b[0m\n\u001b[1;32m    130\u001b[0m \u001b[38;5;250m\u001b[39m\u001b[38;5;124mr\u001b[39m\u001b[38;5;124;03m\"\"\"Run a synchronous query to TAP service and return result as an `astropy.Table`\u001b[39;00m\n\u001b[1;32m    131\u001b[0m \n\u001b[1;32m    132\u001b[0m \u001b[38;5;124;03mIf the synchronous query fails, the code automatically tries to run the same query asynchronously\u001b[39;00m\n\u001b[0;32m   (...)\u001b[0m\n\u001b[1;32m    142\u001b[0m \n\u001b[1;32m    143\u001b[0m \u001b[38;5;124;03m\"\"\"\u001b[39;00m\n\u001b[1;32m    144\u001b[0m \u001b[38;5;28;01mtry\u001b[39;00m:\n\u001b[0;32m--> 145\u001b[0m     result_from_query \u001b[38;5;241m=\u001b[39m tap_service\u001b[38;5;241m.\u001b[39msearch(query\u001b[38;5;241m=\u001b[39mquery, maxrec\u001b[38;5;241m=\u001b[39m\u001b[38;5;28;43mint\u001b[39;49m\u001b[43m(\u001b[49m\u001b[43mmaxrec\u001b[49m\u001b[43m)\u001b[49m)\u001b[38;5;241m.\u001b[39mto_table()\n\u001b[1;32m    146\u001b[0m \u001b[38;5;28;01mexcept\u001b[39;00m (\u001b[38;5;167;01mValueError\u001b[39;00m, DALQueryError, DALFormatError):\n\u001b[1;32m    147\u001b[0m     msgs\u001b[38;5;241m.\u001b[39mwarning(\u001b[38;5;124m'\u001b[39m\u001b[38;5;124mThe query timed out. Trying with maxrec=100, but consider using `async` instead.\u001b[39m\u001b[38;5;124m'\u001b[39m)\n",
      "\u001b[0;31mTypeError\u001b[0m: int() argument must be a string, a bytes-like object or a real number, not 'NoneType'"
     ]
    }
   ],
   "source": [
    "# Query the ESO archive for observations of the stars\n",
    "result_from_queries = archive_observations.query_from_radec(target_position, # Target position\n",
    "                                                            radius=5, # Radius in arcsec\n",
    "                                                            data_types='image', # Data type\n",
    "                                                            instruments=['HAWKI'] # Instrument\n",
    "                                                            ) "
   ]
  },
  {
   "cell_type": "markdown",
   "metadata": {},
   "source": [
    "Here we filter our results for the collection ``195.B-0283`` which is from the [GALACTICNUCLEUS](https://www.aanda.org/articles/aa/full_html/2019/11/aa36263-19/aa36263-19.html) survey. "
   ]
  },
  {
   "cell_type": "code",
   "execution_count": 4,
   "metadata": {},
   "outputs": [
    {
     "name": "stderr",
     "output_type": "stream",
     "text": [
      "WARNING: AstropyDeprecationWarning: show_in_notebook() is deprecated as of 6.1 and to create\n",
      "         interactive tables it is recommended to use dedicated tools like:\n",
      "         - https://github.com/bloomberg/ipydatagrid\n",
      "         - https://docs.bokeh.org/en/latest/docs/user_guide/interaction/widgets.html#datatable\n",
      "         - https://dash.plotly.com/datatable [warnings]\n"
     ]
    },
    {
     "data": {
      "text/html": [
       "<i>Table length=12</i>\n",
       "<table id=\"table5144974848-211802\" class=\"table-striped table-bordered table-condensed\">\n",
       "<thead><tr><th>target_name</th><th>dp_id</th><th>s_ra</th><th>s_dec</th><th>t_exptime</th><th>em_min</th><th>em_max</th><th>dataproduct_type</th><th>instrument_name</th><th>obstech</th><th>abmaglim</th><th>proposal_id</th><th>obs_collection</th></tr></thead>\n",
       "<thead><tr><th></th><th></th><th>deg</th><th>deg</th><th>s</th><th>m</th><th>m</th><th></th><th></th><th></th><th>mag</th><th></th><th></th></tr></thead>\n",
       "<tr><td>FAST-SGRA-1</td><td>ADP.2021-04-30T12:05:59.259</td><td>266.38847</td><td>-29.029075</td><td>1175.015</td><td>1.982e-06</td><td>2.307e-06</td><td>image</td><td>HAWKI</td><td>IMAGE,HIT</td><td>21.0</td><td>195.B-0283(A)</td><td>195.B-0283</td></tr>\n",
       "<tr><td>FAST-SGRA-1</td><td>ADP.2021-04-30T12:05:58.663</td><td>266.427</td><td>-28.973507</td><td>1175.015</td><td>1.181e-06</td><td>1.335e-06</td><td>image</td><td>HAWKI</td><td>IMAGE,HIT</td><td>22.0</td><td>195.B-0283(A)</td><td>195.B-0283</td></tr>\n",
       "<tr><td>FAST-SGRA-1</td><td>ADP.2021-04-30T12:05:58.895</td><td>266.427</td><td>-28.973507</td><td>1175.015</td><td>1.474e-06</td><td>1.764e-06</td><td>image</td><td>HAWKI</td><td>IMAGE,HIT</td><td>21.0</td><td>195.B-0283(A)</td><td>195.B-0283</td></tr>\n",
       "<tr><td>FAST-SGRA-1</td><td>ADP.2021-04-30T12:05:58.661</td><td>266.38847</td><td>-29.029075</td><td>1175.015</td><td>1.181e-06</td><td>1.335e-06</td><td>image</td><td>HAWKI</td><td>IMAGE,HIT</td><td>22.0</td><td>195.B-0283(A)</td><td>195.B-0283</td></tr>\n",
       "<tr><td>FAST-SGRA-1</td><td>ADP.2021-04-30T12:05:58.659</td><td>266.41302</td><td>-29.042113</td><td>1175.015</td><td>1.181e-06</td><td>1.335e-06</td><td>image</td><td>HAWKI</td><td>IMAGE,HIT</td><td>22.0</td><td>195.B-0283(A)</td><td>195.B-0283</td></tr>\n",
       "<tr><td>FAST-SGRA-1</td><td>ADP.2021-04-30T12:05:58.891</td><td>266.41302</td><td>-29.042113</td><td>1175.015</td><td>1.474e-06</td><td>1.764e-06</td><td>image</td><td>HAWKI</td><td>IMAGE,HIT</td><td>21.0</td><td>195.B-0283(A)</td><td>195.B-0283</td></tr>\n",
       "<tr><td>FAST-SGRA-1</td><td>ADP.2021-04-30T12:05:58.893</td><td>266.38847</td><td>-29.029074</td><td>1175.015</td><td>1.474e-06</td><td>1.764e-06</td><td>image</td><td>HAWKI</td><td>IMAGE,HIT</td><td>21.0</td><td>195.B-0283(A)</td><td>195.B-0283</td></tr>\n",
       "<tr><td>FAST-SGRA-1</td><td>ADP.2021-04-30T12:05:59.255</td><td>266.41302</td><td>-29.042114</td><td>1175.015</td><td>1.982e-06</td><td>2.307e-06</td><td>image</td><td>HAWKI</td><td>IMAGE,HIT</td><td>21.0</td><td>195.B-0283(A)</td><td>195.B-0283</td></tr>\n",
       "<tr><td>FAST-SGRA-1</td><td>ADP.2021-04-30T12:05:59.249</td><td>266.45155</td><td>-28.986541</td><td>1175.015</td><td>1.982e-06</td><td>2.307e-06</td><td>image</td><td>HAWKI</td><td>IMAGE,HIT</td><td>21.0</td><td>195.B-0283(A)</td><td>195.B-0283</td></tr>\n",
       "<tr><td>FAST-SGRA-1</td><td>ADP.2021-04-30T12:05:59.265</td><td>266.427</td><td>-28.973507</td><td>1175.015</td><td>1.982e-06</td><td>2.307e-06</td><td>image</td><td>HAWKI</td><td>IMAGE,HIT</td><td>21.0</td><td>195.B-0283(A)</td><td>195.B-0283</td></tr>\n",
       "<tr><td>FAST-SGRA-1</td><td>ADP.2021-04-30T12:05:58.657</td><td>266.45155</td><td>-28.986542</td><td>1175.015</td><td>1.181e-06</td><td>1.335e-06</td><td>image</td><td>HAWKI</td><td>IMAGE,HIT</td><td>22.0</td><td>195.B-0283(A)</td><td>195.B-0283</td></tr>\n",
       "<tr><td>FAST-SGRA-1</td><td>ADP.2021-04-30T12:05:58.889</td><td>266.45155</td><td>-28.986541</td><td>1175.015</td><td>1.474e-06</td><td>1.764e-06</td><td>image</td><td>HAWKI</td><td>IMAGE,HIT</td><td>21.0</td><td>195.B-0283(A)</td><td>195.B-0283</td></tr>\n",
       "</table><style>table.dataTable {clear: both; width: auto !important; margin: 0 !important;}\n",
       ".dataTables_info, .dataTables_length, .dataTables_filter, .dataTables_paginate{\n",
       "display: inline-block; margin-right: 1em; }\n",
       ".paginate_button { margin-right: 5px; }\n",
       "</style>\n",
       "<script>\n",
       "\n",
       "var astropy_sort_num = function(a, b) {\n",
       "    var a_num = parseFloat(a);\n",
       "    var b_num = parseFloat(b);\n",
       "\n",
       "    if (isNaN(a_num) && isNaN(b_num))\n",
       "        return ((a < b) ? -1 : ((a > b) ? 1 : 0));\n",
       "    else if (!isNaN(a_num) && !isNaN(b_num))\n",
       "        return ((a_num < b_num) ? -1 : ((a_num > b_num) ? 1 : 0));\n",
       "    else\n",
       "        return isNaN(a_num) ? -1 : 1;\n",
       "}\n",
       "\n",
       "require.config({paths: {\n",
       "    datatables: 'https://cdn.datatables.net/1.10.12/js/jquery.dataTables.min'\n",
       "}});\n",
       "require([\"datatables\"], function(){\n",
       "    console.log(\"$('#table5144974848-211802').dataTable()\");\n",
       "    \n",
       "jQuery.extend( jQuery.fn.dataTableExt.oSort, {\n",
       "    \"optionalnum-asc\": astropy_sort_num,\n",
       "    \"optionalnum-desc\": function (a,b) { return -astropy_sort_num(a, b); }\n",
       "});\n",
       "\n",
       "    $('#table5144974848-211802').dataTable({\n",
       "        order: [],\n",
       "        pageLength: 50,\n",
       "        lengthMenu: [[10, 25, 50, 100, 500, 1000, -1], [10, 25, 50, 100, 500, 1000, 'All']],\n",
       "        pagingType: \"full_numbers\",\n",
       "        columnDefs: [{targets: [2, 3, 4, 5, 6, 10], type: \"optionalnum\"}]\n",
       "    });\n",
       "});\n",
       "</script>\n"
      ],
      "text/plain": [
       "<IPython.core.display.HTML object>"
      ]
     },
     "execution_count": 4,
     "metadata": {},
     "output_type": "execute_result"
    }
   ],
   "source": [
    "result_from_queries = result_from_queries[result_from_queries['obs_collection'] == '195.B-0283'] # Select the HAWKI observations from the GalacticNucleus data release\n",
    "result_from_queries.show_in_notebook(show_row_index=False) # Show the table in a Jupyter notebook"
   ]
  },
  {
   "cell_type": "markdown",
   "metadata": {},
   "source": [
    "### <a id='aladin_preview'>2.1 Aladin Preview </a>"
   ]
  },
  {
   "cell_type": "markdown",
   "metadata": {},
   "source": [
    "We open this in an ``Aladin Lite`` preview using the below command. \n",
    "\n",
    "```python\n",
    "import archive_science_portal\n",
    "archive_science_portal.check_hips()\n",
    "```\n",
    "\n",
    "**Note:** These will open links though the browser, and if providing multiple dp_ids this can be a number of tabs."
   ]
  },
  {
   "cell_type": "code",
   "execution_count": 5,
   "metadata": {},
   "outputs": [
    {
     "name": "stderr",
     "output_type": "stream",
     "text": [
      "\u001b[1;32m[INFO]    ::\u001b[0m This will open a new tab with the HIPS information in browser\n"
     ]
    }
   ],
   "source": [
    "# Get the data product ID of the first observation\n",
    "dp_id = result_from_queries['dp_id'][0]\n",
    "\n",
    "# This opens the HIPS in Aladin Lite preview \n",
    "archive_science_portal.check_hips(dp_id)"
   ]
  },
  {
   "cell_type": "markdown",
   "metadata": {},
   "source": [
    "We now download the data the usual way... "
   ]
  },
  {
   "cell_type": "code",
   "execution_count": 6,
   "metadata": {},
   "outputs": [
    {
     "name": "stderr",
     "output_type": "stream",
     "text": [
      "\u001b[1;32m[INFO]    ::\u001b[0m Your disk has:\n",
      "\u001b[1;32m[INFO]    ::\u001b[0m Total: 926.35 GB, Used: 694.79 GB, Free: 231.57 GB\n",
      "\u001b[1;30m[WORKING] ::\u001b[0m Retrieving file ADP.2021-04-30T12:05:59.259.fits\n",
      "\u001b[1;32m[INFO]    ::\u001b[0m File ADP.2021-04-30T12:05:59.259.fits downloaded\n"
     ]
    }
   ],
   "source": [
    "# Specify the parent directory; update this to match your own directory structure\n",
    "output_dir = './data/' \n",
    "\n",
    "# Download the data products\n",
    "output_files = archive_observations.download(dp_id, output_dir=output_dir)"
   ]
  },
  {
   "cell_type": "markdown",
   "metadata": {},
   "source": [
    "---\n",
    "## <a id='aladin'>2. View is Aladin Lite </a>\n",
    "\n",
    "We now make use of the [ipyaladin](https://cds-astro.github.io/ipyaladin/getting_started/getting_started.html) package to view the data in [Aladin Lite](https://aladin.cds.unistra.fr/AladinLite/). \n",
    "\n",
    "The package should be easy to install through.\n",
    "\n",
    "```bash\n",
    "pip install ipyaladin\n",
    "```\n"
   ]
  },
  {
   "cell_type": "code",
   "execution_count": 7,
   "metadata": {},
   "outputs": [],
   "source": [
    "from ipyaladin import Aladin # Aladin Lite widget for Jupyter notebooks"
   ]
  },
  {
   "cell_type": "markdown",
   "metadata": {},
   "source": [
    "We start by creating an Aladin Lite widget and setting the target position as the initial view. \n",
    "\n",
    "Here we show the [PanSTARRS](https://outerspace.stsci.edu/display/PANSTARRS/) survey data towards the central 0.2 degrees of the Galactic Centre (in galactic coordinates)."
   ]
  },
  {
   "cell_type": "code",
   "execution_count": 8,
   "metadata": {},
   "outputs": [
    {
     "data": {
      "application/vnd.jupyter.widget-view+json": {
       "model_id": "dd0932609ca54047b43100306cdf720d",
       "version_major": 2,
       "version_minor": 1
      },
      "text/plain": [
       "Aladin(coo_frame='galactic', survey='P/PanSTARRS/DR1/color-i-r-g')"
      ]
     },
     "execution_count": 8,
     "metadata": {},
     "output_type": "execute_result"
    }
   ],
   "source": [
    "aladin = Aladin(fov=0.2, # Field of view in degrees\n",
    "                survey='P/PanSTARRS/DR1/color-i-r-g', # Survey to display\n",
    "                target=target_name, # Target to display\n",
    "                coo_frame=\"galactic\") # Coordinate frame to use\n",
    "aladin"
   ]
  },
  {
   "cell_type": "markdown",
   "metadata": {},
   "source": [
    "We can now load the image we downloaded from the ESO Archive into Aladin Lite widget.\n",
    "\n",
    "Note that the image is displayed in the same frame as the Aladin Lite widget (above)."
   ]
  },
  {
   "cell_type": "code",
   "execution_count": 10,
   "metadata": {},
   "outputs": [],
   "source": [
    "hdu = fits.open(f'{output_dir}{output_files[0]}')[0] # Open the FITS file downloaded from the ESO archive\n",
    "aladin.add_fits(hdu, name=target_name, opacity=0.25) # Add the FITS file to the Aladin Lite widget"
   ]
  },
  {
   "cell_type": "markdown",
   "metadata": {},
   "source": [
    "We can now save this as an image to view later."
   ]
  },
  {
   "cell_type": "code",
   "execution_count": 12,
   "metadata": {},
   "outputs": [],
   "source": [
    "aladin.save_view_as_image(\"./figures/aladin_GALACTICNUCLEUS.png\")"
   ]
  }
 ],
 "metadata": {
  "kernelspec": {
   "display_name": "python3p10",
   "language": "python",
   "name": "python3"
  },
  "language_info": {
   "codemirror_mode": {
    "name": "ipython",
    "version": 3
   },
   "file_extension": ".py",
   "mimetype": "text/x-python",
   "name": "python",
   "nbconvert_exporter": "python",
   "pygments_lexer": "ipython3",
   "version": "3.10.15"
  }
 },
 "nbformat": 4,
 "nbformat_minor": 2
}
