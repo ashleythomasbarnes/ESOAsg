{
 "cells": [
  {
   "cell_type": "code",
   "execution_count": 3,
   "metadata": {},
   "outputs": [
    {
     "name": "stdout",
     "output_type": "stream",
     "text": [
      "Intel MKL WARNING: Support of Intel(R) Streaming SIMD Extensions 4.2 (Intel(R) SSE4.2) enabled only processors has been deprecated. Intel oneAPI Math Kernel Library 2025.0 will require Intel(R) Advanced Vector Extensions (Intel(R) AVX) instructions.\n",
      "Intel MKL WARNING: Support of Intel(R) Streaming SIMD Extensions 4.2 (Intel(R) SSE4.2) enabled only processors has been deprecated. Intel oneAPI Math Kernel Library 2025.0 will require Intel(R) Advanced Vector Extensions (Intel(R) AVX) instructions.\n"
     ]
    }
   ],
   "source": [
    "import astropy.units as u\n",
    "from astropy import coordinates"
   ]
  },
  {
   "cell_type": "code",
   "execution_count": null,
   "metadata": {},
   "outputs": [],
   "source": [
    "# Position of M51 - https://ned.ipac.caltech.edu/byname?objname=M51&hconst=67.8&omegam=0.308&omegav=0.692&wmap=4&corr_z=1\n",
    "ra = 202.484167 *u.deg\n",
    "dec = 47.230556 *u.deg\n",
    "coords = coordinates.SkyCoord(ra, dec, frame='icrs')\n",
    "coords"
   ]
  },
  {
   "cell_type": "code",
   "execution_count": 14,
   "metadata": {},
   "outputs": [
    {
     "data": {
      "text/plain": [
       "'13h29m56.20008s +47d13m50.0016s'"
      ]
     },
     "execution_count": 14,
     "metadata": {},
     "output_type": "execute_result"
    }
   ],
   "source": [
    "coords.to_string('hmsdms') # Print string in hmsdms format"
   ]
  },
  {
   "cell_type": "code",
   "execution_count": 13,
   "metadata": {},
   "outputs": [
    {
     "data": {
      "text/plain": [
       "(202.484167, 47.230556)"
      ]
     },
     "execution_count": 13,
     "metadata": {},
     "output_type": "execute_result"
    }
   ],
   "source": [
    "coords.ra.value, coords.dec.value # Print as floats"
   ]
  },
  {
   "cell_type": "code",
   "execution_count": 15,
   "metadata": {},
   "outputs": [
    {
     "data": {
      "text/plain": [
       "<SkyCoord (FK5: equinox=J2000.000): (ra, dec) in deg\n",
       "    (202.48416679, 47.23055578)>"
      ]
     },
     "execution_count": 15,
     "metadata": {},
     "output_type": "execute_result"
    }
   ],
   "source": [
    "coords.fk5 # Print in FK5 format"
   ]
  },
  {
   "cell_type": "code",
   "execution_count": 16,
   "metadata": {},
   "outputs": [
    {
     "data": {
      "text/plain": [
       "<SkyCoord (Galactic): (l, b) in deg\n",
       "    (104.86604847, 68.52442261)>"
      ]
     },
     "execution_count": 16,
     "metadata": {},
     "output_type": "execute_result"
    }
   ],
   "source": [
    "coords.galactic # Print in Galactic format"
   ]
  },
  {
   "cell_type": "code",
   "execution_count": 26,
   "metadata": {},
   "outputs": [
    {
     "name": "stdout",
     "output_type": "stream",
     "text": [
      "Box original: 01 24 03\n",
      "Box in degrees: 1.4008333333333332 deg\n"
     ]
    }
   ],
   "source": [
    "box = '01 24 03' # Define box\n",
    "box_deg = box.split(' ')\n",
    "box_deg = [float(i) for i in box_deg]\n",
    "box_deg = box_deg[0] *u.deg + box_deg[1] *u.arcmin + box_deg[2] *u.arcsecond\n",
    "print('Box original:', box)\n",
    "print('Box in degrees:', box_deg)"
   ]
  },
  {
   "cell_type": "code",
   "execution_count": 28,
   "metadata": {},
   "outputs": [
    {
     "name": "stdout",
     "output_type": "stream",
     "text": [
      "RA between 201.4662129040896 and 203.52938438629218 AND DEC between 46.52557178225933 and 47.92628278338335\n"
     ]
    }
   ],
   "source": [
    "# Convert to width and height\n",
    "width = box_deg/2\n",
    "height = box_deg/2\n",
    "\n",
    "coords_min = coords.spherical_offsets_by(-width, -height)\n",
    "coords_max = coords.spherical_offsets_by(width, height)\n",
    "\n",
    "ra_min = coords_min.ra.value\n",
    "dec_min = coords_min.dec.value\n",
    "ra_max = coords_max.ra.value\n",
    "dec_max = coords_max.dec.value\n",
    "\n",
    "print(f'RA between {ra_min} and {ra_max} AND DEC between {dec_min} and {dec_max}') #something like this..."
   ]
  }
 ],
 "metadata": {
  "kernelspec": {
   "display_name": "python3p10",
   "language": "python",
   "name": "python3"
  },
  "language_info": {
   "codemirror_mode": {
    "name": "ipython",
    "version": 3
   },
   "file_extension": ".py",
   "mimetype": "text/x-python",
   "name": "python",
   "nbconvert_exporter": "python",
   "pygments_lexer": "ipython3",
   "version": "3.10.15"
  }
 },
 "nbformat": 4,
 "nbformat_minor": 2
}
