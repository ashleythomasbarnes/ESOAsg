{
 "cells": [
  {
   "cell_type": "code",
   "execution_count": null,
   "metadata": {},
   "outputs": [],
   "source": [
    "import astropy.units as u\n",
    "from astropy import coordinates"
   ]
  },
  {
   "cell_type": "code",
   "execution_count": 24,
   "metadata": {},
   "outputs": [],
   "source": [
    "from astroquery.alma import Alma as ALMA\n",
    "from astroquery.cadc import Cadc as CADC\n",
    "from astroquery.esa.jwst import Jwst as JWST\n",
    "from astroquery.esa.hubble import ESAHubble as HST"
   ]
  },
  {
   "cell_type": "code",
   "execution_count": 19,
   "metadata": {},
   "outputs": [],
   "source": [
    "coords_galactic = coordinates.SkyCoord(0*u.deg, 0*u.deg, frame='galactic')\n",
    "coords_icrs = coords_galactic.icrs"
   ]
  },
  {
   "cell_type": "code",
   "execution_count": null,
   "metadata": {},
   "outputs": [],
   "source": [
    "alma = ALMA()\n",
    "alma_results = alma.query_region(coords_galactic, 0.1*u.deg) # Radius given as argument\n",
    "alma_results = alma.query_region(coords_galactic, radius=0.1*u.deg) # Width and height given as keyword arguments\n",
    "alma_results = alma.query_region(coords_galactic, width=0.1*u.deg, height=0.1*u.deg) # Width and height given as keyword arguments"
   ]
  },
  {
   "cell_type": "code",
   "execution_count": 20,
   "metadata": {},
   "outputs": [],
   "source": [
    "hst = HST()\n",
    "hst_results = hst.cone_search(coords_icrs, 0.1*u.deg) # HST does not support galactic coordinates"
   ]
  },
  {
   "cell_type": "code",
   "execution_count": null,
   "metadata": {},
   "outputs": [],
   "source": [
    "jwst = JWST()\n",
    "result = jwst.query_region(coords_galactic, radius=0.1*u.deg) # Radius must be given as keyword argument"
   ]
  },
  {
   "cell_type": "code",
   "execution_count": 26,
   "metadata": {},
   "outputs": [],
   "source": [
    "cadc = CADC()\n",
    "cadc_results = cadc.query_region(coords_icrs, radius=0.1*u.deg) "
   ]
  }
 ],
 "metadata": {
  "kernelspec": {
   "display_name": "python3p10",
   "language": "python",
   "name": "python3"
  },
  "language_info": {
   "codemirror_mode": {
    "name": "ipython",
    "version": 3
   },
   "file_extension": ".py",
   "mimetype": "text/x-python",
   "name": "python",
   "nbconvert_exporter": "python",
   "pygments_lexer": "ipython3",
   "version": "3.10.15"
  }
 },
 "nbformat": 4,
 "nbformat_minor": 2
}
